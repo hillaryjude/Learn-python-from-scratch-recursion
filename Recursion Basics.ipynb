{
 "cells": [
  {
   "cell_type": "markdown",
   "id": "e9d3264f-063a-4dc1-84cd-260878dff6f6",
   "metadata": {},
   "source": [
    "# Basics on Recursion"
   ]
  },
  {
   "cell_type": "markdown",
   "id": "48f03345-9b87-4c4a-afad-e6cff3505e8b",
   "metadata": {},
   "source": [
    "### Sum of N numbers using Rescursive function"
   ]
  },
  {
   "cell_type": "code",
   "execution_count": 5,
   "id": "c1beb008-f71b-452b-b0e0-ea353f727aa4",
   "metadata": {},
   "outputs": [],
   "source": [
    "def sumnum(N):\n",
    "    if N == 0:      #base condition\n",
    "        return 0\n",
    "    return N + sumnum(N-1) #Logic statement"
   ]
  },
  {
   "cell_type": "code",
   "execution_count": 6,
   "id": "cd00181b-2a2a-4222-8449-37e2184988a2",
   "metadata": {},
   "outputs": [
    {
     "name": "stdout",
     "output_type": "stream",
     "text": [
      "15\n"
     ]
    }
   ],
   "source": [
    "print(sumnum(5))"
   ]
  },
  {
   "cell_type": "markdown",
   "id": "4ad07419-3497-403e-98c3-3766cc36c22f",
   "metadata": {},
   "source": [
    "### Code for product of N numbers"
   ]
  },
  {
   "cell_type": "code",
   "execution_count": 7,
   "id": "c93f1766-d509-46fb-87e7-255fcb536cbb",
   "metadata": {},
   "outputs": [],
   "source": [
    "def prod(N):\n",
    "    if N == 1:\n",
    "        return 1\n",
    "    return N * prod(N-1)"
   ]
  },
  {
   "cell_type": "code",
   "execution_count": 8,
   "id": "b893ad96-ac5e-4474-8fef-f81e719f88ee",
   "metadata": {},
   "outputs": [
    {
     "data": {
      "text/plain": [
       "720"
      ]
     },
     "execution_count": 8,
     "metadata": {},
     "output_type": "execute_result"
    }
   ],
   "source": [
    "prod(6)"
   ]
  },
  {
   "cell_type": "markdown",
   "id": "8730aff5-ed22-4911-834b-8f160a62f26f",
   "metadata": {},
   "source": [
    "### Compute fibonacci series"
   ]
  },
  {
   "cell_type": "code",
   "execution_count": 9,
   "id": "ab6d9564-d93b-4ef5-9182-04a2794dd75d",
   "metadata": {},
   "outputs": [],
   "source": [
    "def Fibo(N):\n",
    "    if 0 <= N <= 1:\n",
    "        return N\n",
    "    return Fibo(N-2) + Fibo(N-1)\n",
    "    "
   ]
  },
  {
   "cell_type": "code",
   "execution_count": 10,
   "id": "c13f9775-c986-47d1-9e97-eba6fba61bf9",
   "metadata": {},
   "outputs": [
    {
     "name": "stdout",
     "output_type": "stream",
     "text": [
      "8\n"
     ]
    }
   ],
   "source": [
    "print(Fibo(6))"
   ]
  },
  {
   "cell_type": "code",
   "execution_count": 11,
   "id": "d09f5a8c-d3ee-419f-9c29-9882cd62477d",
   "metadata": {},
   "outputs": [
    {
     "name": "stdout",
     "output_type": "stream",
     "text": [
      "144\n"
     ]
    }
   ],
   "source": [
    "print(Fibo(12))"
   ]
  },
  {
   "cell_type": "markdown",
   "id": "827567ee-42c3-4e64-8782-6ba38624bdc9",
   "metadata": {},
   "source": [
    "### Compute code on power of a number"
   ]
  },
  {
   "cell_type": "code",
   "execution_count": 12,
   "id": "3e11dde7-f3e1-47d1-b480-7c4a3488fb49",
   "metadata": {},
   "outputs": [],
   "source": [
    "def power(a,n):\n",
    "    if n == 0:\n",
    "        return 1\n",
    "    return a * power(a,n-1)"
   ]
  },
  {
   "cell_type": "code",
   "execution_count": 13,
   "id": "9b55e2e7-00b4-4c18-9c6e-2bbef2bc90af",
   "metadata": {},
   "outputs": [
    {
     "name": "stdout",
     "output_type": "stream",
     "text": [
      "81\n"
     ]
    }
   ],
   "source": [
    "print(power(3,4))"
   ]
  },
  {
   "cell_type": "code",
   "execution_count": 14,
   "id": "5ae4df98-a6ba-44b7-a0eb-f5d48ec31537",
   "metadata": {},
   "outputs": [
    {
     "name": "stdout",
     "output_type": "stream",
     "text": [
      "4\n"
     ]
    }
   ],
   "source": [
    "print(power(2,2))"
   ]
  },
  {
   "cell_type": "code",
   "execution_count": null,
   "id": "1743555d-256d-4217-b3c1-6e50e4fdbd02",
   "metadata": {},
   "outputs": [],
   "source": []
  }
 ],
 "metadata": {
  "kernelspec": {
   "display_name": "Python 3 (ipykernel)",
   "language": "python",
   "name": "python3"
  },
  "language_info": {
   "codemirror_mode": {
    "name": "ipython",
    "version": 3
   },
   "file_extension": ".py",
   "mimetype": "text/x-python",
   "name": "python",
   "nbconvert_exporter": "python",
   "pygments_lexer": "ipython3",
   "version": "3.12.6"
  }
 },
 "nbformat": 4,
 "nbformat_minor": 5
}
